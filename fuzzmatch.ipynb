{
 "cells": [
  {
   "cell_type": "code",
   "execution_count": 8,
   "metadata": {},
   "outputs": [
    {
     "name": "stdout",
     "output_type": "stream",
     "text": [
      "      c1      c2 Match_Result\n",
      "0  hello  heello        Match\n",
      "1     hi      hi        Match\n"
     ]
    }
   ],
   "source": [
    "\n",
    "\n",
    "import pandas as pd\n",
    "from fuzzywuzzy import fuzz \n",
    "import string\n",
    "\n",
    "def fuzzmatch(file_path, sheet, c1, c2, output_path=None, match_ratio=80, mode=0):\n",
    "    df=pd.read_excel(file_path, sheet_name=sheet)\n",
    "    df[c1] = df[c1].astype(str)\n",
    "    df[c2] = df[c2].astype(str)\n",
    "    def sort_text(text):\n",
    "        cleaned_word = text.translate(str.maketrans('','',string.punctuation))\n",
    "        sorted_word=\"\".join(sorted(cleaned_word.replace(\" \",'').lower()))\n",
    "        return sorted_word\n",
    "    def check(row):\n",
    "        if mode == 0:\n",
    "            value1=str(row[c1]) if pd.notna(row[c1]) else \"\"\n",
    "            value2=str(row[c2]) if pd.notna(row[c2]) else \"\"\n",
    "        else:\n",
    "            value1=sort_text(str(row[c1])) if pd.notna(row[c2]) else \"\"\n",
    "            value2=sort_text(str(row[c2])) if pd.notna(row[c2]) else \"\"\n",
    "        return \"Match\" if fuzz.ratio(value1,value2)>= match_ratio else \"No Match\"\n",
    "    df[\"Match_Result\"] = df.apply(check, axis=1)\n",
    "    if output_path == None:\n",
    "        output_path=\"output with matches.xlsx\"\n",
    "    else:\n",
    "        output_path = output_path+'output with matches.xlsx'\n",
    "    df.to_excel(output_path,index = False)\n",
    "    "
   ]
  }
 ],
 "metadata": {
  "kernelspec": {
   "display_name": "base",
   "language": "python",
   "name": "python3"
  },
  "language_info": {
   "codemirror_mode": {
    "name": "ipython",
    "version": 3
   },
   "file_extension": ".py",
   "mimetype": "text/x-python",
   "name": "python",
   "nbconvert_exporter": "python",
   "pygments_lexer": "ipython3",
   "version": "3.9.12"
  }
 },
 "nbformat": 4,
 "nbformat_minor": 2
}
